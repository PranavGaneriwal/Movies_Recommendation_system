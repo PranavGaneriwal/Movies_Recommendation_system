{
  "nbformat": 4,
  "nbformat_minor": 0,
  "metadata": {
    "colab": {
      "name": "Movie_Recommendation_System.ipynb",
      "provenance": [],
      "collapsed_sections": []
    },
    "kernelspec": {
      "name": "python3",
      "display_name": "Python 3"
    },
    "language_info": {
      "name": "python"
    }
  },
  "cells": [
    {
      "cell_type": "markdown",
      "metadata": {
        "id": "R1oRN_iiHN_7"
      },
      "source": [
        "Importing the dependencies"
      ]
    },
    {
      "cell_type": "code",
      "metadata": {
        "id": "GAGi6hrzFLOb"
      },
      "source": [
        "import numpy as np\n",
        "import pandas as pd\n",
        "import difflib\n",
        "from sklearn.feature_extraction.text import TfidfVectorizer\n",
        "from sklearn.metrics.pairwise import cosine_similarity"
      ],
      "execution_count": 36,
      "outputs": []
    },
    {
      "cell_type": "markdown",
      "metadata": {
        "id": "mfIW1BYVIGfP"
      },
      "source": [
        "Data Collection and Pre-Processing"
      ]
    },
    {
      "cell_type": "code",
      "source": [
        "from google.colab import drive\n",
        "\n",
        "drive.mount('/content/drive')"
      ],
      "metadata": {
        "id": "vaHuyJ8Japu1",
        "colab": {
          "base_uri": "https://localhost:8080/"
        },
        "outputId": "19d2750a-cbc3-4fd1-83e3-9ef413bbdbf2"
      },
      "execution_count": 37,
      "outputs": [
        {
          "output_type": "stream",
          "name": "stdout",
          "text": [
            "Drive already mounted at /content/drive; to attempt to forcibly remount, call drive.mount(\"/content/drive\", force_remount=True).\n"
          ]
        }
      ]
    },
    {
      "cell_type": "code",
      "metadata": {
        "id": "MOXn7CGdIGBU"
      },
      "source": [
        "# Connecting to the dataset saved in my google drive\n",
        "movies_data = pd.read_csv('/content/drive/MyDrive/Movies/Movies.csv')"
      ],
      "execution_count": 38,
      "outputs": []
    },
    {
      "cell_type": "code",
      "metadata": {
        "id": "cha03lDAIa6l",
        "colab": {
          "base_uri": "https://localhost:8080/",
          "height": 287
        },
        "outputId": "5c9c5a09-8475-4748-d9db-892cc14c8a0b"
      },
      "source": [
        "movies_data.head(1)"
      ],
      "execution_count": 39,
      "outputs": [
        {
          "output_type": "execute_result",
          "data": {
            "text/plain": [
              "   index     budget                                    genres  \\\n",
              "0      0  237000000  Action Adventure Fantasy Science Fiction   \n",
              "\n",
              "                      homepage     id  \\\n",
              "0  http://www.avatarmovie.com/  19995   \n",
              "\n",
              "                                            keywords original_language  \\\n",
              "0  culture clash future space war space colony so...                en   \n",
              "\n",
              "  original_title                                           overview  \\\n",
              "0         Avatar  In the 22nd century, a paraplegic Marine is di...   \n",
              "\n",
              "   popularity  ... runtime                                   spoken_languages  \\\n",
              "0  150.437577  ...   162.0  [{\"iso_639_1\": \"en\", \"name\": \"English\"}, {\"iso...   \n",
              "\n",
              "     status                      tagline   title vote_average vote_count  \\\n",
              "0  Released  Enter the World of Pandora.  Avatar          7.2      11800   \n",
              "\n",
              "                                                cast  \\\n",
              "0  Sam Worthington Zoe Saldana Sigourney Weaver S...   \n",
              "\n",
              "                                                crew       director  \n",
              "0  [{'name': 'Stephen E. Rivkin', 'gender': 0, 'd...  James Cameron  \n",
              "\n",
              "[1 rows x 24 columns]"
            ],
            "text/html": [
              "\n",
              "  <div id=\"df-9baddf9d-51ca-4390-ac8e-561d88c43954\">\n",
              "    <div class=\"colab-df-container\">\n",
              "      <div>\n",
              "<style scoped>\n",
              "    .dataframe tbody tr th:only-of-type {\n",
              "        vertical-align: middle;\n",
              "    }\n",
              "\n",
              "    .dataframe tbody tr th {\n",
              "        vertical-align: top;\n",
              "    }\n",
              "\n",
              "    .dataframe thead th {\n",
              "        text-align: right;\n",
              "    }\n",
              "</style>\n",
              "<table border=\"1\" class=\"dataframe\">\n",
              "  <thead>\n",
              "    <tr style=\"text-align: right;\">\n",
              "      <th></th>\n",
              "      <th>index</th>\n",
              "      <th>budget</th>\n",
              "      <th>genres</th>\n",
              "      <th>homepage</th>\n",
              "      <th>id</th>\n",
              "      <th>keywords</th>\n",
              "      <th>original_language</th>\n",
              "      <th>original_title</th>\n",
              "      <th>overview</th>\n",
              "      <th>popularity</th>\n",
              "      <th>...</th>\n",
              "      <th>runtime</th>\n",
              "      <th>spoken_languages</th>\n",
              "      <th>status</th>\n",
              "      <th>tagline</th>\n",
              "      <th>title</th>\n",
              "      <th>vote_average</th>\n",
              "      <th>vote_count</th>\n",
              "      <th>cast</th>\n",
              "      <th>crew</th>\n",
              "      <th>director</th>\n",
              "    </tr>\n",
              "  </thead>\n",
              "  <tbody>\n",
              "    <tr>\n",
              "      <th>0</th>\n",
              "      <td>0</td>\n",
              "      <td>237000000</td>\n",
              "      <td>Action Adventure Fantasy Science Fiction</td>\n",
              "      <td>http://www.avatarmovie.com/</td>\n",
              "      <td>19995</td>\n",
              "      <td>culture clash future space war space colony so...</td>\n",
              "      <td>en</td>\n",
              "      <td>Avatar</td>\n",
              "      <td>In the 22nd century, a paraplegic Marine is di...</td>\n",
              "      <td>150.437577</td>\n",
              "      <td>...</td>\n",
              "      <td>162.0</td>\n",
              "      <td>[{\"iso_639_1\": \"en\", \"name\": \"English\"}, {\"iso...</td>\n",
              "      <td>Released</td>\n",
              "      <td>Enter the World of Pandora.</td>\n",
              "      <td>Avatar</td>\n",
              "      <td>7.2</td>\n",
              "      <td>11800</td>\n",
              "      <td>Sam Worthington Zoe Saldana Sigourney Weaver S...</td>\n",
              "      <td>[{'name': 'Stephen E. Rivkin', 'gender': 0, 'd...</td>\n",
              "      <td>James Cameron</td>\n",
              "    </tr>\n",
              "  </tbody>\n",
              "</table>\n",
              "<p>1 rows × 24 columns</p>\n",
              "</div>\n",
              "      <button class=\"colab-df-convert\" onclick=\"convertToInteractive('df-9baddf9d-51ca-4390-ac8e-561d88c43954')\"\n",
              "              title=\"Convert this dataframe to an interactive table.\"\n",
              "              style=\"display:none;\">\n",
              "        \n",
              "  <svg xmlns=\"http://www.w3.org/2000/svg\" height=\"24px\"viewBox=\"0 0 24 24\"\n",
              "       width=\"24px\">\n",
              "    <path d=\"M0 0h24v24H0V0z\" fill=\"none\"/>\n",
              "    <path d=\"M18.56 5.44l.94 2.06.94-2.06 2.06-.94-2.06-.94-.94-2.06-.94 2.06-2.06.94zm-11 1L8.5 8.5l.94-2.06 2.06-.94-2.06-.94L8.5 2.5l-.94 2.06-2.06.94zm10 10l.94 2.06.94-2.06 2.06-.94-2.06-.94-.94-2.06-.94 2.06-2.06.94z\"/><path d=\"M17.41 7.96l-1.37-1.37c-.4-.4-.92-.59-1.43-.59-.52 0-1.04.2-1.43.59L10.3 9.45l-7.72 7.72c-.78.78-.78 2.05 0 2.83L4 21.41c.39.39.9.59 1.41.59.51 0 1.02-.2 1.41-.59l7.78-7.78 2.81-2.81c.8-.78.8-2.07 0-2.86zM5.41 20L4 18.59l7.72-7.72 1.47 1.35L5.41 20z\"/>\n",
              "  </svg>\n",
              "      </button>\n",
              "      \n",
              "  <style>\n",
              "    .colab-df-container {\n",
              "      display:flex;\n",
              "      flex-wrap:wrap;\n",
              "      gap: 12px;\n",
              "    }\n",
              "\n",
              "    .colab-df-convert {\n",
              "      background-color: #E8F0FE;\n",
              "      border: none;\n",
              "      border-radius: 50%;\n",
              "      cursor: pointer;\n",
              "      display: none;\n",
              "      fill: #1967D2;\n",
              "      height: 32px;\n",
              "      padding: 0 0 0 0;\n",
              "      width: 32px;\n",
              "    }\n",
              "\n",
              "    .colab-df-convert:hover {\n",
              "      background-color: #E2EBFA;\n",
              "      box-shadow: 0px 1px 2px rgba(60, 64, 67, 0.3), 0px 1px 3px 1px rgba(60, 64, 67, 0.15);\n",
              "      fill: #174EA6;\n",
              "    }\n",
              "\n",
              "    [theme=dark] .colab-df-convert {\n",
              "      background-color: #3B4455;\n",
              "      fill: #D2E3FC;\n",
              "    }\n",
              "\n",
              "    [theme=dark] .colab-df-convert:hover {\n",
              "      background-color: #434B5C;\n",
              "      box-shadow: 0px 1px 3px 1px rgba(0, 0, 0, 0.15);\n",
              "      filter: drop-shadow(0px 1px 2px rgba(0, 0, 0, 0.3));\n",
              "      fill: #FFFFFF;\n",
              "    }\n",
              "  </style>\n",
              "\n",
              "      <script>\n",
              "        const buttonEl =\n",
              "          document.querySelector('#df-9baddf9d-51ca-4390-ac8e-561d88c43954 button.colab-df-convert');\n",
              "        buttonEl.style.display =\n",
              "          google.colab.kernel.accessAllowed ? 'block' : 'none';\n",
              "\n",
              "        async function convertToInteractive(key) {\n",
              "          const element = document.querySelector('#df-9baddf9d-51ca-4390-ac8e-561d88c43954');\n",
              "          const dataTable =\n",
              "            await google.colab.kernel.invokeFunction('convertToInteractive',\n",
              "                                                     [key], {});\n",
              "          if (!dataTable) return;\n",
              "\n",
              "          const docLinkHtml = 'Like what you see? Visit the ' +\n",
              "            '<a target=\"_blank\" href=https://colab.research.google.com/notebooks/data_table.ipynb>data table notebook</a>'\n",
              "            + ' to learn more about interactive tables.';\n",
              "          element.innerHTML = '';\n",
              "          dataTable['output_type'] = 'display_data';\n",
              "          await google.colab.output.renderOutput(dataTable, element);\n",
              "          const docLink = document.createElement('div');\n",
              "          docLink.innerHTML = docLinkHtml;\n",
              "          element.appendChild(docLink);\n",
              "        }\n",
              "      </script>\n",
              "    </div>\n",
              "  </div>\n",
              "  "
            ]
          },
          "metadata": {},
          "execution_count": 39
        }
      ]
    },
    {
      "cell_type": "code",
      "metadata": {
        "id": "Qrtr0oQbIjwF",
        "colab": {
          "base_uri": "https://localhost:8080/"
        },
        "outputId": "0ec07b9d-f7db-442b-8bbd-a1f7a1689ba8"
      },
      "source": [
        "movies_data.shape # 4803 movies "
      ],
      "execution_count": 40,
      "outputs": [
        {
          "output_type": "execute_result",
          "data": {
            "text/plain": [
              "(4803, 24)"
            ]
          },
          "metadata": {},
          "execution_count": 40
        }
      ]
    },
    {
      "cell_type": "code",
      "metadata": {
        "id": "hunvyruUJhVq",
        "colab": {
          "base_uri": "https://localhost:8080/"
        },
        "outputId": "5ba8c280-703b-46ad-d342-3ca3d02d13c6"
      },
      "source": [
        "# selecting the relevant features for recommendation\n",
        "\n",
        "selected_features = ['genres','keywords','tagline','cast','director']\n",
        "print(selected_features)"
      ],
      "execution_count": 41,
      "outputs": [
        {
          "output_type": "stream",
          "name": "stdout",
          "text": [
            "['genres', 'keywords', 'tagline', 'cast', 'director']\n"
          ]
        }
      ]
    },
    {
      "cell_type": "code",
      "metadata": {
        "id": "CKIVE6OWKSYk"
      },
      "source": [
        "# replacing the null valuess with null string\n",
        "\n",
        "for feature in selected_features:\n",
        "  movies_data[feature] = movies_data[feature].fillna('')"
      ],
      "execution_count": 42,
      "outputs": []
    },
    {
      "cell_type": "code",
      "metadata": {
        "id": "-AMjrRItLCO1"
      },
      "source": [
        "# combining all the 5 selected features\n",
        "\n",
        "combined_features = movies_data['genres']+' '+movies_data['keywords']+' '+movies_data['tagline']+' '+movies_data['cast']+' '+movies_data['director']"
      ],
      "execution_count": 43,
      "outputs": []
    },
    {
      "cell_type": "code",
      "metadata": {
        "id": "ZYjFXx3aLwTh",
        "colab": {
          "base_uri": "https://localhost:8080/"
        },
        "outputId": "7153cff3-a6e3-4b6a-c799-af05085e51e8"
      },
      "source": [
        "print(combined_features)"
      ],
      "execution_count": 44,
      "outputs": [
        {
          "output_type": "stream",
          "name": "stdout",
          "text": [
            "0       Action Adventure Fantasy Science Fiction cultu...\n",
            "1       Adventure Fantasy Action ocean drug abuse exot...\n",
            "2       Action Adventure Crime spy based on novel secr...\n",
            "3       Action Crime Drama Thriller dc comics crime fi...\n",
            "4       Action Adventure Science Fiction based on nove...\n",
            "                              ...                        \n",
            "4798    Action Crime Thriller united states\\u2013mexic...\n",
            "4799    Comedy Romance  A newlywed couple's honeymoon ...\n",
            "4800    Comedy Drama Romance TV Movie date love at fir...\n",
            "4801      A New Yorker in Shanghai Daniel Henney Eliza...\n",
            "4802    Documentary obsession camcorder crush dream gi...\n",
            "Length: 4803, dtype: object\n"
          ]
        }
      ]
    },
    {
      "cell_type": "code",
      "metadata": {
        "id": "BfuttC_gLyfF"
      },
      "source": [
        "# converting the text data to feature vectors\n",
        "\n",
        "vectorizer = TfidfVectorizer()"
      ],
      "execution_count": 45,
      "outputs": []
    },
    {
      "cell_type": "code",
      "metadata": {
        "id": "Leo5rQskMKxL"
      },
      "source": [
        "feature_vectors = vectorizer.fit_transform(combined_features)"
      ],
      "execution_count": 46,
      "outputs": []
    },
    {
      "cell_type": "code",
      "metadata": {
        "id": "qNbeeMSnMb2F",
        "colab": {
          "base_uri": "https://localhost:8080/"
        },
        "outputId": "5f9f3930-5f7e-435b-f0e6-3ed5e9a9aea3"
      },
      "source": [
        "print(feature_vectors)"
      ],
      "execution_count": 47,
      "outputs": [
        {
          "output_type": "stream",
          "name": "stdout",
          "text": [
            "  (0, 2432)\t0.17272411194153\n",
            "  (0, 7755)\t0.1128035714854756\n",
            "  (0, 13024)\t0.1942362060108871\n",
            "  (0, 10229)\t0.16058685400095302\n",
            "  (0, 8756)\t0.22709015857011816\n",
            "  (0, 14608)\t0.15150672398763912\n",
            "  (0, 16668)\t0.19843263965100372\n",
            "  (0, 14064)\t0.20596090415084142\n",
            "  (0, 13319)\t0.2177470539412484\n",
            "  (0, 17290)\t0.20197912553916567\n",
            "  (0, 17007)\t0.23643326319898797\n",
            "  (0, 13349)\t0.15021264094167086\n",
            "  (0, 11503)\t0.27211310056983656\n",
            "  (0, 11192)\t0.09049319826481456\n",
            "  (0, 16998)\t0.1282126322850579\n",
            "  (0, 15261)\t0.07095833561276566\n",
            "  (0, 4945)\t0.24025852494110758\n",
            "  (0, 14271)\t0.21392179219912877\n",
            "  (0, 3225)\t0.24960162956997736\n",
            "  (0, 16587)\t0.12549432354918996\n",
            "  (0, 14378)\t0.33962752210959823\n",
            "  (0, 5836)\t0.1646750903586285\n",
            "  (0, 3065)\t0.22208377802661425\n",
            "  (0, 3678)\t0.21392179219912877\n",
            "  (0, 5437)\t0.1036413987316636\n",
            "  :\t:\n",
            "  (4801, 17266)\t0.2886098184932947\n",
            "  (4801, 4835)\t0.24713765026963996\n",
            "  (4801, 403)\t0.17727585190343226\n",
            "  (4801, 6935)\t0.2886098184932947\n",
            "  (4801, 11663)\t0.21557500762727902\n",
            "  (4801, 1672)\t0.1564793427630879\n",
            "  (4801, 10929)\t0.13504166990041588\n",
            "  (4801, 7474)\t0.11307961713172225\n",
            "  (4801, 3796)\t0.3342808988877418\n",
            "  (4802, 6996)\t0.5700048226105303\n",
            "  (4802, 5367)\t0.22969114490410403\n",
            "  (4802, 3654)\t0.262512960498006\n",
            "  (4802, 2425)\t0.24002350969074696\n",
            "  (4802, 4608)\t0.24002350969074696\n",
            "  (4802, 6417)\t0.21753405888348784\n",
            "  (4802, 4371)\t0.1538239182675544\n",
            "  (4802, 12989)\t0.1696476532191718\n",
            "  (4802, 1316)\t0.1960747079005741\n",
            "  (4802, 4528)\t0.19504460807622875\n",
            "  (4802, 3436)\t0.21753405888348784\n",
            "  (4802, 6155)\t0.18056463596934083\n",
            "  (4802, 4980)\t0.16078053641367315\n",
            "  (4802, 2129)\t0.3099656128577656\n",
            "  (4802, 4518)\t0.16784466610624255\n",
            "  (4802, 11161)\t0.17867407682173203\n"
          ]
        }
      ]
    },
    {
      "cell_type": "markdown",
      "metadata": {
        "id": "qEGga5yPMnXO"
      },
      "source": [
        "Cosine Similarity"
      ]
    },
    {
      "cell_type": "code",
      "metadata": {
        "id": "MsKYCs31MeB6"
      },
      "source": [
        "# getting the similarity scores using cosine similarity\n",
        "\n",
        "similarity = cosine_similarity(feature_vectors)"
      ],
      "execution_count": 48,
      "outputs": []
    },
    {
      "cell_type": "code",
      "metadata": {
        "id": "46ha1PfTM-oQ",
        "colab": {
          "base_uri": "https://localhost:8080/"
        },
        "outputId": "70e1d756-4dcb-40a8-b424-6ec6cc361185"
      },
      "source": [
        "print(similarity)"
      ],
      "execution_count": 49,
      "outputs": [
        {
          "output_type": "stream",
          "name": "stdout",
          "text": [
            "[[1.         0.07219487 0.037733   ... 0.         0.         0.        ]\n",
            " [0.07219487 1.         0.03281499 ... 0.03575545 0.         0.        ]\n",
            " [0.037733   0.03281499 1.         ... 0.         0.05389661 0.        ]\n",
            " ...\n",
            " [0.         0.03575545 0.         ... 1.         0.         0.02651502]\n",
            " [0.         0.         0.05389661 ... 0.         1.         0.        ]\n",
            " [0.         0.         0.         ... 0.02651502 0.         1.        ]]\n"
          ]
        }
      ]
    },
    {
      "cell_type": "code",
      "metadata": {
        "id": "PLkvII-wM_5I",
        "colab": {
          "base_uri": "https://localhost:8080/"
        },
        "outputId": "f271334b-05b4-4cfd-8ee3-cb8081a010c1"
      },
      "source": [
        "print(similarity.shape)"
      ],
      "execution_count": 50,
      "outputs": [
        {
          "output_type": "stream",
          "name": "stdout",
          "text": [
            "(4803, 4803)\n"
          ]
        }
      ]
    },
    {
      "cell_type": "markdown",
      "metadata": {
        "id": "EG3JItMUWeDD"
      },
      "source": [
        "Getting the movie name from the user"
      ]
    },
    {
      "cell_type": "code",
      "metadata": {
        "id": "bhSWJgqgNDo7",
        "colab": {
          "base_uri": "https://localhost:8080/"
        },
        "outputId": "c9572890-1020-4df8-b2cc-f4c850f7d382"
      },
      "source": [
        "# getting the movie name from the user\n",
        "\n",
        "movie_name = input(' Enter your favourite movie name : ')"
      ],
      "execution_count": 51,
      "outputs": [
        {
          "name": "stdout",
          "output_type": "stream",
          "text": [
            " Enter your favourite movie name : Titanic\n"
          ]
        }
      ]
    },
    {
      "cell_type": "code",
      "metadata": {
        "id": "VQ8Qvu8vNj4U",
        "colab": {
          "base_uri": "https://localhost:8080/"
        },
        "outputId": "2523daae-b851-4905-9681-57b2d00feeb3"
      },
      "source": [
        "# creating a list with all the movie names given in the dataset\n",
        "\n",
        "list_of_all_titles = movies_data['title'].tolist()\n",
        "list_of_all_titles[0:10]"
      ],
      "execution_count": 61,
      "outputs": [
        {
          "output_type": "execute_result",
          "data": {
            "text/plain": [
              "['Avatar',\n",
              " \"Pirates of the Caribbean: At World's End\",\n",
              " 'Spectre',\n",
              " 'The Dark Knight Rises',\n",
              " 'John Carter',\n",
              " 'Spider-Man 3',\n",
              " 'Tangled',\n",
              " 'Avengers: Age of Ultron',\n",
              " 'Harry Potter and the Half-Blood Prince',\n",
              " 'Batman v Superman: Dawn of Justice']"
            ]
          },
          "metadata": {},
          "execution_count": 61
        }
      ]
    },
    {
      "cell_type": "code",
      "metadata": {
        "id": "u1HTkBLIOBjf",
        "colab": {
          "base_uri": "https://localhost:8080/"
        },
        "outputId": "921bb3e9-3e7f-4534-ff79-735e06f08feb"
      },
      "source": [
        "# finding the close match for the movie name given by the user\n",
        "\n",
        "find_close_match = difflib.get_close_matches(movie_name, list_of_all_titles)\n",
        "print(find_close_match)"
      ],
      "execution_count": 62,
      "outputs": [
        {
          "output_type": "stream",
          "name": "stdout",
          "text": [
            "['Titanic', 'Trance', 'Maniac']\n"
          ]
        }
      ]
    },
    {
      "cell_type": "code",
      "metadata": {
        "id": "CgiC-enuOfXx",
        "colab": {
          "base_uri": "https://localhost:8080/"
        },
        "outputId": "de793cdf-f481-46af-882d-30d787cb1c06"
      },
      "source": [
        "close_match = find_close_match[1]\n",
        "print(close_match)"
      ],
      "execution_count": 63,
      "outputs": [
        {
          "output_type": "stream",
          "name": "stdout",
          "text": [
            "Trance\n"
          ]
        }
      ]
    },
    {
      "cell_type": "code",
      "metadata": {
        "id": "CNXJfY-FOw1I",
        "colab": {
          "base_uri": "https://localhost:8080/"
        },
        "outputId": "3f4df6cb-f83f-43b6-dacf-098023d670bf"
      },
      "source": [
        "# finding the index of the movie with title\n",
        "\n",
        "index_of_the_movie = movies_data[movies_data.title == close_match]['index'].values[0]\n",
        "print(index_of_the_movie)"
      ],
      "execution_count": 64,
      "outputs": [
        {
          "output_type": "stream",
          "name": "stdout",
          "text": [
            "2495\n"
          ]
        }
      ]
    },
    {
      "cell_type": "code",
      "metadata": {
        "id": "dyUeQZpvPbkx",
        "colab": {
          "base_uri": "https://localhost:8080/"
        },
        "outputId": "4d8af815-199f-4d56-c186-e915436c8e51"
      },
      "source": [
        "# getting a list of similar movies\n",
        "\n",
        "similarity_score = list(enumerate(similarity[index_of_the_movie]))\n",
        "print(similarity_score[0:10])"
      ],
      "execution_count": 65,
      "outputs": [
        {
          "output_type": "stream",
          "name": "stdout",
          "text": [
            "[(0, 0.013236839304149676), (1, 0.0), (2, 0.009400715114828453), (3, 0.03089805706810602), (4, 0.0), (5, 0.060067926711068545), (6, 0.0), (7, 0.0), (8, 0.0), (9, 0.0)]\n"
          ]
        }
      ]
    },
    {
      "cell_type": "code",
      "metadata": {
        "id": "mMrxw-leQNtP",
        "colab": {
          "base_uri": "https://localhost:8080/"
        },
        "outputId": "bc7c5c10-0664-437f-b5c9-9c97211535a8"
      },
      "source": [
        "len(similarity_score)"
      ],
      "execution_count": 66,
      "outputs": [
        {
          "output_type": "execute_result",
          "data": {
            "text/plain": [
              "4803"
            ]
          },
          "metadata": {},
          "execution_count": 66
        }
      ]
    },
    {
      "cell_type": "code",
      "metadata": {
        "id": "SkXgFLePQkHL",
        "colab": {
          "base_uri": "https://localhost:8080/"
        },
        "outputId": "ede673f7-0d1c-4c37-fd8c-a796d2df672a"
      },
      "source": [
        "# sorting the movies based on their similarity score\n",
        "\n",
        "sorted_similar_movies = sorted(similarity_score, key = lambda x:x[1], reverse = True) \n",
        "print(sorted_similar_movies[0:10])"
      ],
      "execution_count": 68,
      "outputs": [
        {
          "output_type": "stream",
          "name": "stdout",
          "text": [
            "[(2495, 1.0000000000000002), (4124, 0.21799897723618575), (218, 0.18489102806616237), (1616, 0.1695203848346339), (1470, 0.1591920973223984), (1417, 0.15055272924984742), (447, 0.14626962743382876), (586, 0.14090764433078634), (398, 0.13648150409700516), (3575, 0.12917424015784124)]\n"
          ]
        }
      ]
    },
    {
      "cell_type": "code",
      "metadata": {
        "id": "JseMqew-RW6Q",
        "colab": {
          "base_uri": "https://localhost:8080/"
        },
        "outputId": "f35ac864-15ab-48d6-9a28-bb1a00df6eb5"
      },
      "source": [
        "# print the name of similar movies based on the index\n",
        "\n",
        "print('Movies suggested for you : \\n')\n",
        "\n",
        "i = 1\n",
        "\n",
        "for movie in sorted_similar_movies:\n",
        "  index = movie[0]\n",
        "  title_from_index = movies_data[movies_data.index==index]['title'].values[0]\n",
        "  if (i<15):\n",
        "    print(i, '.',title_from_index)\n",
        "    i+=1"
      ],
      "execution_count": 70,
      "outputs": [
        {
          "output_type": "stream",
          "name": "stdout",
          "text": [
            "Movies suggested for you : \n",
            "\n",
            "1 . Trance\n",
            "2 . This Thing of Ours\n",
            "3 . Jason Bourne\n",
            "4 . What's the Worst That Could Happen?\n",
            "5 . Stolen\n",
            "6 . Alex Cross\n",
            "7 . Eagle Eye\n",
            "8 . The Monuments Men\n",
            "9 . Ocean's Thirteen\n",
            "10 . Clerks II\n",
            "11 . Light It Up\n",
            "12 . Shattered Glass\n",
            "13 . Reservoir Dogs\n",
            "14 . Trainspotting\n"
          ]
        }
      ]
    },
    {
      "cell_type": "markdown",
      "metadata": {
        "id": "KmXULXO9TZun"
      },
      "source": [
        "Movie Recommendation Sytem"
      ]
    },
    {
      "cell_type": "code",
      "metadata": {
        "id": "QUDZfTSxTHDf",
        "colab": {
          "base_uri": "https://localhost:8080/"
        },
        "outputId": "e640d959-cd13-4987-9d7f-12b93e4e7e03"
      },
      "source": [
        "movie_name = input(' Enter your favourite movie name : ')\n",
        "\n",
        "list_of_all_titles = movies_data['title'].tolist()\n",
        "\n",
        "find_close_match = difflib.get_close_matches(movie_name, list_of_all_titles)\n",
        "\n",
        "close_match = find_close_match[0]\n",
        "\n",
        "index_of_the_movie = movies_data[movies_data.title == close_match]['index'].values[0]\n",
        "\n",
        "similarity_score = list(enumerate(similarity[index_of_the_movie]))\n",
        "\n",
        "sorted_similar_movies = sorted(similarity_score, key = lambda x:x[1], reverse = True) \n",
        "\n",
        "print('Movies suggested for you : \\n')\n",
        "\n",
        "i = 1\n",
        "\n",
        "for movie in sorted_similar_movies:\n",
        "  index = movie[0]\n",
        "  title_from_index = movies_data[movies_data.index==index]['title'].values[0]\n",
        "  if (i<15):\n",
        "    print(i, '.',title_from_index)\n",
        "    i+=1"
      ],
      "execution_count": 72,
      "outputs": [
        {
          "output_type": "stream",
          "name": "stdout",
          "text": [
            " Enter your favourite movie name : The Revenant\n",
            "Movies suggested for you : \n",
            "\n",
            "1 . The Revenant\n",
            "2 . Birdman\n",
            "3 . Babel\n",
            "4 . 21 Grams\n",
            "5 . Amores perros\n",
            "6 . Biutiful\n",
            "7 . About Time\n",
            "8 . Inception\n",
            "9 . Brooklyn\n",
            "10 . Body of Lies\n",
            "11 . Shutter Island\n",
            "12 . He Got Game\n",
            "13 . Big Fish\n",
            "14 . Charlie and the Chocolate Factory\n"
          ]
        }
      ]
    },
    {
      "cell_type": "code",
      "metadata": {
        "id": "dgOXLbsWUAGK"
      },
      "source": [
        ""
      ],
      "execution_count": null,
      "outputs": []
    }
  ]
}